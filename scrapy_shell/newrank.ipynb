{
 "cells": [
  {
   "cell_type": "markdown",
   "metadata": {},
   "source": [
    "# API测试"
   ]
  },
  {
   "cell_type": "code",
   "execution_count": 19,
   "metadata": {},
   "outputs": [],
   "source": [
    "import hashlib\n",
    "import random\n",
    "import math\n",
    "import requests\n",
    "\n",
    "BASE_URL = 'https://www.newrank.cn'\n",
    "GET_ACCOUNT_ARTICLES_URL = '/xdnphb/detail/getAccountArticle'\n",
    "SEARCH_OFFICIAL_WEIXIN_ACCOUNT = '/xdnphb/data/weixinuser/searchWeixinDataByCondition'\n",
    "\n",
    "user_agent = 'Mozilla/5.0 (Macintosh; Intel Mac OS X 10_13_2) AppleWebKit/537.36 (KHTML, like Gecko) Chrome/63.0.3239.84 Safari/537.36'\n",
    "token = 'AA79F89BA13E514FE5BB69C90B7E8578'\n",
    "headers = {\n",
    "    'User-Agent': user_agent,\n",
    "    'Cookie': 'token=%s; tt_token=true; ' % token,\n",
    "    'x-requested-with': 'XMLHttpRequest',\n",
    "    'content-type':'application/x-www-form-urlencoded; charset=UTF-8'\n",
    "}"
   ]
  },
  {
   "cell_type": "code",
   "execution_count": 20,
   "metadata": {},
   "outputs": [],
   "source": [
    "def generate_nonce():\n",
    "    chars = '0123456789abcdef'\n",
    "    res = ''\n",
    "    for _ in range(9):\n",
    "        res += chars[math.floor(16 * random.random())]\n",
    "    return res\n",
    "\n",
    "\n",
    "def xyz(params_list, api_suffix):\n",
    "    md5_str = api_suffix + '?AppKey=joker&' + '&'.join(map(lambda x: '='.join(x), params_list))\n",
    "    return hashlib.md5(md5_str.encode()).hexdigest()\n",
    "\n",
    "\n",
    "def form_encoding(params, api_suffix, nonce=None):\n",
    "    params_list = [entry for entry in params.items()]\n",
    "    params_list.sort(key=lambda x: x[0])\n",
    "    params_list.append(('nonce', nonce if nonce else generate_nonce()))\n",
    "\n",
    "    xyz_param = xyz(params_list, api_suffix)\n",
    "    params_list.append(('xyz', xyz_param))\n",
    "    return '&'.join(map(lambda x: '='.join(x), params_list))\n",
    "\n",
    "\n",
    "def get_account_articles(uuid):\n",
    "    params = {\n",
    "        'uuid': uuid,\n",
    "        'flag':'true'\n",
    "    }\n",
    "\n",
    "    data = form_encoding(params, GET_ACCOUNT_ARTICLES_URL)\n",
    "    print(data)\n",
    "    return requests.post(BASE_URL + GET_ACCOUNT_ARTICLES_URL, data=data, headers=headers)\n",
    "\n",
    "def search_weixin_official_account(keyword, filter='', order=''):\n",
    "    params = {\n",
    "        'keyName': keyword,\n",
    "        'order': order,\n",
    "        'filter': filter,\n",
    "        'hasDeal': 'false',\n",
    "    }\n",
    "    data = form_encoding(params, SEARCH_OFFICIAL_WEIXIN_ACCOUNT)\n",
    "    print(data)\n",
    "    return requests.post(BASE_URL + SEARCH_OFFICIAL_WEIXIN_ACCOUNT, data=data, headers=headers)\n"
   ]
  },
  {
   "cell_type": "code",
   "execution_count": 22,
   "metadata": {},
   "outputs": [
    {
     "name": "stdout",
     "output_type": "stream",
     "text": [
      "flag=true&uuid=A4C71D652EB75E74E08AF6D7687B2162&nonce=7977f33fc&xyz=c14d75fb8d1977ef5b3187949351a50b\n"
     ]
    },
    {
     "data": {
      "text/plain": [
       "<Response [200]>"
      ]
     },
     "execution_count": 22,
     "metadata": {},
     "output_type": "execute_result"
    }
   ],
   "source": [
    "resp = get_account_articles('A4C71D652EB75E74E08AF6D7687B2162')\n",
    "resp"
   ]
  },
  {
   "cell_type": "code",
   "execution_count": 23,
   "metadata": {},
   "outputs": [
    {
     "data": {
      "text/plain": [
       "2"
      ]
     },
     "execution_count": 23,
     "metadata": {},
     "output_type": "execute_result"
    }
   ],
   "source": [
    "len(resp.json())"
   ]
  },
  {
   "cell_type": "code",
   "execution_count": 40,
   "metadata": {},
   "outputs": [
    {
     "name": "stdout",
     "output_type": "stream",
     "text": [
      "filter=&hasDeal=false&keyName=Me&order=&nonce=6f9d45ee8&xyz=285b75df7a644b890398cbf9836c10e3\n"
     ]
    },
    {
     "data": {
      "text/plain": [
       "<Response [200]>"
      ]
     },
     "execution_count": 40,
     "metadata": {},
     "output_type": "execute_result"
    }
   ],
   "source": [
    "sear_res = search_weixin_official_account('Me')\n",
    "sear_res"
   ]
  },
  {
   "cell_type": "code",
   "execution_count": 59,
   "metadata": {},
   "outputs": [
    {
     "data": {
      "text/plain": [
       "('D53E8970386901A0A565040790E5C40C',\n",
       " \"新浪微博@韩国<font color='red'>me</font>2day专属帐号，合作联系：<font color='red'>me</font>2day@qq.com\")"
      ]
     },
     "execution_count": 59,
     "metadata": {},
     "output_type": "execute_result"
    }
   ],
   "source": [
    "obj = sear_res.json()['value']['result'][0]\n",
    "obj['uuid'], obj['description']"
   ]
  },
  {
   "cell_type": "markdown",
   "metadata": {},
   "source": [
    "# 搜索公众号参数\n",
    "* order: relation(综合-默认), NRI(新榜指数), collect(收藏人数), \n",
    "* keyName: 关键字\n",
    "* filter(范围): nickname, tags, auth(认证主体), top500, ori(原创), server(服务号), certified(认证号)"
   ]
  },
  {
   "cell_type": "markdown",
   "metadata": {},
   "source": [
    "# 面对对象测试"
   ]
  },
  {
   "cell_type": "code",
   "execution_count": 7,
   "metadata": {},
   "outputs": [],
   "source": [
    "import hashlib\n",
    "import logging\n",
    "import random\n",
    "import math\n",
    "import functools\n",
    "import requests\n",
    "\n",
    "from urllib.parse import urlencode\n",
    "\n",
    "BASE_URL = 'https://www.newrank.cn'\n",
    "GET_ACCOUNT_ARTICLES_URL = '/xdnphb/detail/getAccountArticle'\n",
    "SEARCH_OFFICIAL_WEIXIN_ACCOUNT = '/xdnphb/data/weixinuser/searchWeixinDataByCondition'\n",
    "user_agent = 'Mozilla/5.0 (Macintosh; Intel Mac OS X 10_13_2) AppleWebKit/537.36 (KHTML, like Gecko) Chrome/63.0.3239.84 Safari/537.36'\n",
    "token = 'AA79F89BA13E514FE5BB69C90B7E8578'\n",
    "\n",
    "\n",
    "def check_response_return_json(func, ret=None):\n",
    "    @functools.wraps(func)\n",
    "    def wrapper(*args, **kwargs):\n",
    "        resp = func(*args, **kwargs)\n",
    "        if resp.status_code != 200 or resp.text == '':\n",
    "            logging.error(\n",
    "                f' [{func.__name__} error]: code {resp.status_code}, text: {resp.text}, args: {args}, kwargs: {kwargs}')\n",
    "            retu = [] if ret is None else ret\n",
    "            return retu\n",
    "        else:\n",
    "            return resp.json()\n",
    "\n",
    "    return func\n",
    "\n",
    "\n",
    "class NewrankClient():\n",
    "    def __init__(self, token):\n",
    "        self.token = token\n",
    "        self.headers = {\n",
    "            'User-Agent': user_agent,\n",
    "            'Cookie': 'token=%s; tt_token=true; ' % token,\n",
    "            'X-Requested-With': 'XMLHttpRequest',\n",
    "            'Content-Type': 'application/x-www-form-urlencoded; charset=UTF-8',\n",
    "            'Origin': 'https://www.newrank.cn',\n",
    "            'Accept': 'application/json, text/javascript, */*; q=0.01',\n",
    "            'Accept-Encoding': 'gzip, deflate, br',\n",
    "\n",
    "        }\n",
    "\n",
    "    def post(self, api_suffix, params):\n",
    "        if isinstance(params, str):\n",
    "            return requests.post(BASE_URL + api_suffix, data=params, headers=self.headers)\n",
    "        else:\n",
    "            qurey_str = self.form_encoding(api_suffix, params)\n",
    "            return requests.post(BASE_URL + api_suffix, data=qurey_str, headers=self.headers)\n",
    "\n",
    "    def nonce(self):\n",
    "        chars = '0123456789abcdef'\n",
    "        res = ''\n",
    "        for _ in range(9):\n",
    "            res += chars[math.floor(16 * random.random())]\n",
    "        return res\n",
    "\n",
    "    def xyz(self, api_suffix, params_list: list):\n",
    "        md5_str = api_suffix + '?AppKey=joker&' + '&'.join(map(lambda x: '='.join(x), params_list))\n",
    "        return hashlib.md5(md5_str.encode()).hexdigest()\n",
    "\n",
    "    def form_encoding(self, api_suffix, params: dict):\n",
    "        params_list = [entry for entry in params.items()]\n",
    "        params_list.sort(key=lambda x: x[0])\n",
    "        params_list.append(('nonce', self.nonce()))\n",
    "        xyz_param = self.xyz(api_suffix, params_list)\n",
    "        params_list.append(('xyz', xyz_param))\n",
    "        return urlencode(params_list)\n",
    "\n",
    "    @check_response_return_json\n",
    "    def get_account_articles(self, uuid):\n",
    "        params = {\n",
    "            'uuid': uuid,\n",
    "            'flag': 'true'\n",
    "        }\n",
    "        return self.post(GET_ACCOUNT_ARTICLES_URL, params)\n",
    "\n",
    "    @check_response_return_json\n",
    "    def search_weixin_official_account(self, keyword, filter='', order=''):\n",
    "        \"\"\"\n",
    "        :param keyword: keyword\n",
    "        :param filter: one or more in [nickname, tags, auth(认证主体), top500, ori(原创), server(服务号), certified(认证号)]\n",
    "        separate by '|'. e.g. 'tags|top500'\n",
    "        :param order: relation(综合-默认), NRI(新榜指数), collect(收藏人数)\n",
    "        :return:\n",
    "        \"\"\"\n",
    "        params = {\n",
    "            'keyName': keyword,\n",
    "            'order': order,\n",
    "            'filter': filter,\n",
    "            'hasDeal': 'false',\n",
    "        }\n",
    "\n",
    "        return self.post(SEARCH_OFFICIAL_WEIXIN_ACCOUNT, params)\n",
    "\n",
    "    def __str__(self):\n",
    "        return f'<{self.__class__.__name__}>'\n",
    "\n",
    "    __repr__ = __str__\n"
   ]
  },
  {
   "cell_type": "code",
   "execution_count": 8,
   "metadata": {},
   "outputs": [],
   "source": [
    "client = NewrankClient(token)"
   ]
  },
  {
   "cell_type": "code",
   "execution_count": 14,
   "metadata": {},
   "outputs": [],
   "source": [
    "res = client.search_weixin_official_account('你好')"
   ]
  },
  {
   "cell_type": "code",
   "execution_count": 15,
   "metadata": {},
   "outputs": [
    {
     "data": {
      "text/plain": [
       "'{\"success\":true,\"value\":null}'"
      ]
     },
     "execution_count": 15,
     "metadata": {},
     "output_type": "execute_result"
    }
   ],
   "source": [
    "res.text"
   ]
  },
  {
   "cell_type": "code",
   "execution_count": 16,
   "metadata": {},
   "outputs": [
    {
     "data": {
      "text/plain": [
       "'filter=&hasDeal=false&keyName=%E4%BD%A0%E5%A5%BD&order=&nonce=dcaf74d8e&xyz=b4ac699e1cf6c360c1aeec9272a6315d'"
      ]
     },
     "execution_count": 16,
     "metadata": {},
     "output_type": "execute_result"
    }
   ],
   "source": [
    "res.request.body"
   ]
  },
  {
   "cell_type": "code",
   "execution_count": 37,
   "metadata": {},
   "outputs": [
    {
     "data": {
      "text/plain": [
       "{'User-Agent': 'Mozilla/5.0 (Macintosh; Intel Mac OS X 10_13_2) AppleWebKit/537.36 (KHTML, like Gecko) Chrome/63.0.3239.84 Safari/537.36', 'Accept-Encoding': 'gzip, deflate, br', 'Accept': 'application/json, text/javascript, */*; q=0.01', 'Connection': 'keep-alive', 'Cookie': 'token=AA79F89BA13E514FE5BB69C90B7E8578; tt_token=true', 'X-Requested-With': 'XMLHttpRequest', 'Content-Type': 'application/x-www-form-urlencoded; charset=UTF-8', 'Origin': 'https://www.newrank.cn', 'Content-Length': '93'}"
      ]
     },
     "execution_count": 37,
     "metadata": {},
     "output_type": "execute_result"
    }
   ],
   "source": [
    "res.request.headers"
   ]
  },
  {
   "cell_type": "code",
   "execution_count": 18,
   "metadata": {},
   "outputs": [
    {
     "data": {
      "text/plain": [
       "''"
      ]
     },
     "execution_count": 18,
     "metadata": {},
     "output_type": "execute_result"
    }
   ],
   "source": [
    "res.text"
   ]
  },
  {
   "cell_type": "code",
   "execution_count": 17,
   "metadata": {},
   "outputs": [],
   "source": [
    "arts = client.get_account_articles('3A54574B487FD9E3A68C33301E167F1C')"
   ]
  },
  {
   "cell_type": "code",
   "execution_count": 18,
   "metadata": {},
   "outputs": [
    {
     "data": {
      "text/plain": [
       "<Response [200]>"
      ]
     },
     "execution_count": 18,
     "metadata": {},
     "output_type": "execute_result"
    }
   ],
   "source": [
    "arts"
   ]
  },
  {
   "cell_type": "code",
   "execution_count": 19,
   "metadata": {},
   "outputs": [
    {
     "data": {
      "text/plain": [
       "{'success': True, 'value': -999}"
      ]
     },
     "execution_count": 19,
     "metadata": {},
     "output_type": "execute_result"
    }
   ],
   "source": [
    "arts.json()"
   ]
  },
  {
   "cell_type": "code",
   "execution_count": 171,
   "metadata": {},
   "outputs": [
    {
     "data": {
      "text/plain": [
       "'flag=true&uuid=3A54574B487FD9E3A68C33301E167F1C&nonce=754e3b8f1&xyz=3fd9304c2dae0ccc4c5eb45dc5b8ca84'"
      ]
     },
     "execution_count": 171,
     "metadata": {},
     "output_type": "execute_result"
    }
   ],
   "source": [
    "arts.request.body"
   ]
  },
  {
   "cell_type": "code",
   "execution_count": 161,
   "metadata": {},
   "outputs": [
    {
     "data": {
      "text/plain": [
       "{'User-Agent': 'Mozilla/5.0 (Macintosh; Intel Mac OS X 10_13_2) AppleWebKit/537.36 (KHTML, like Gecko) Chrome/63.0.3239.84 Safari/537.36', 'Accept-Encoding': 'gzip, deflate', 'Accept': '*/*', 'Connection': 'keep-alive', 'Cookie': 'token=AA79F89BA13E514FE5BB69C90B7E8578; tt_token=true', 'Content-Length': '100'}"
      ]
     },
     "execution_count": 161,
     "metadata": {},
     "output_type": "execute_result"
    }
   ],
   "source": [
    "arts.request.headers"
   ]
  },
  {
   "cell_type": "code",
   "execution_count": 163,
   "metadata": {},
   "outputs": [
    {
     "data": {
      "text/plain": [
       "'{\"timestamp\":1513840252062,\"status\":400,\"error\":\"Bad Request\",\"exception\":\"org.springframework.web.bind.UnsatisfiedServletRequestParameterException\",\"message\":\"Parameter conditions \\\\\"uuid, flag\\\\\" not met for actual request parameters: \",\"path\":\"/xdnphb/detail/getAccountArticle\"}'"
      ]
     },
     "execution_count": 163,
     "metadata": {},
     "output_type": "execute_result"
    }
   ],
   "source": [
    "arts.text"
   ]
  },
  {
   "cell_type": "code",
   "execution_count": null,
   "metadata": {},
   "outputs": [],
   "source": []
  }
 ],
 "metadata": {
  "kernelspec": {
   "display_name": "Python 3",
   "language": "python",
   "name": "python3"
  },
  "language_info": {
   "codemirror_mode": {
    "name": "ipython",
    "version": 3
   },
   "file_extension": ".py",
   "mimetype": "text/x-python",
   "name": "python",
   "nbconvert_exporter": "python",
   "pygments_lexer": "ipython3",
   "version": "3.6.3"
  }
 },
 "nbformat": 4,
 "nbformat_minor": 2
}
