{
 "cells": [
  {
   "cell_type": "markdown",
   "metadata": {},
   "source": [
    "# Initialize Environment"
   ]
  },
  {
   "cell_type": "code",
   "execution_count": 1,
   "metadata": {
    "ExecuteTime": {
     "end_time": "2017-12-29T08:25:32.329161Z",
     "start_time": "2017-12-29T08:25:32.323797Z"
    }
   },
   "outputs": [],
   "source": [
    "from aollio.crawl import *"
   ]
  },
  {
   "cell_type": "markdown",
   "metadata": {},
   "source": [
    "# www.ccn.com"
   ]
  },
  {
   "cell_type": "code",
   "execution_count": 2,
   "metadata": {},
   "outputs": [],
   "source": [
    "fetch(\"https://www.ccn.com\", headers={'User-Agent': USER_AGENTS[0]})"
   ]
  },
  {
   "cell_type": "code",
   "execution_count": 3,
   "metadata": {},
   "outputs": [
    {
     "data": {
      "text/plain": [
       "<200 https://www.ccn.com/>"
      ]
     },
     "execution_count": 3,
     "metadata": {},
     "output_type": "execute_result"
    }
   ],
   "source": [
    "response"
   ]
  },
  {
   "cell_type": "code",
   "execution_count": 4,
   "metadata": {},
   "outputs": [
    {
     "data": {
      "text/plain": [
       "[('Famed Short Seller ‘Pounding the Table’ on Bitcoin Investment Trust',\n",
       "  'https://www.ccn.com/famed-short-seller-pounding-the-table-on-bitcoin-investment-trust/'),\n",
       " ('One Third of Millennials Will Buy Cryptocurrencies in 2018, Study Finds',\n",
       "  'https://www.ccn.com/one-third-of-millennials-will-buy-cryptocurrencies-in-2018/'),\n",
       " ('Bitcoin Dominance Drops Below 50%, Litecoin and Other Altcoins Surge Rapidly',\n",
       "  'https://www.ccn.com/bitcoin-dominance-drops-50-litecoin-altcoins-surge-rapidly/'),\n",
       " ('Augur Price Jumps 100%, for No Apparent Reason?',\n",
       "  'https://www.ccn.com/augur-price-jumps-100-no-apparent-reason/'),\n",
       " ('Bitcoin Price Drops $1,100 in Less Than Two Hours',\n",
       "  'https://www.ccn.com/bitcoin-price-drops-1100-less-two-hours/'),\n",
       " ('17% of Bitcoin Reserves Stolen: Korean Exchange Youbit Declares Bankruptcy after Hack',\n",
       "  'https://www.ccn.com/south-korean-exchange-youbit-declares-bankruptcy-after-second-hack-this-year/'),\n",
       " ('Singapore’s Central Bank Cautions Against Cryptocurrency Investments',\n",
       "  'https://www.ccn.com/singapores-central-bank-cautions-cryptocurrency-investments/'),\n",
       " ('Ethereum Price Posts All-Time High Near $900 as Bitcoin Dominance Slips Below 50%',\n",
       "  'https://www.ccn.com/ethereum-price-posts-all-time-high-near-900-as-bitcoin-dominance-slips-below-50/'),\n",
       " ('Bitcoin’s Economic Moat: The Network Effect',\n",
       "  'https://www.ccn.com/bitcoins-economic-moat-network-effect/'),\n",
       " ('(+) On Speculative Bubbles, Strategies, FOMO, and Early Exits',\n",
       "  'https://hacked.com/speculative-bubbles-strategies-fomo-early-exits/'),\n",
       " ('Bitcoin Isn’t a Credible Currency Yet, Says Japan’s Finance Minister',\n",
       "  'https://www.ccn.com/bitcoin-isnt-credible-currency-yet-says-japans-finance-minister/'),\n",
       " ('$850: Ethereum Price Hits New All-Time High with Explosive Growth',\n",
       "  'https://www.ccn.com/ethereum-price-achieves-new-all-time-high-at-850-explosive-growth/'),\n",
       " ('Bitcoin Isn’t a Currency, Won’t Be Regulated: South Korean Financial Regulator',\n",
       "  'https://www.ccn.com/bitcoin-isnt-currency-wont-regulated-south-korean-financial-regulator/'),\n",
       " ('$22 Million: Bitcoin Price Gains Spike Fidelity Charity’s Donations in 2017',\n",
       "  'https://www.ccn.com/22-million-bitcoin-price-spikes-fidelity-charitys-donations-2017/'),\n",
       " ('(+) Asian Market Update – Tuesday: Ethereum on the Rise as Bitcoin Consolidates',\n",
       "  'https://hacked.com/asian-market-update-tuesday-ethereum-rise-bitcoin-consolidates-asian-stocks-us-tax-reform/'),\n",
       " ('Bitcoin Billionaire Investor Invests Half of His MVP 1 Fund in Bitcoin',\n",
       "  'https://www.ccn.com/bitcoin-billionaire-investor-invests-half-mvp-1-fund-bitcoin/')]"
      ]
     },
     "execution_count": 4,
     "metadata": {},
     "output_type": "execute_result"
    }
   ],
   "source": [
    "titiles = response.xpath('//article/header/h4/a/text()').extract()\n",
    "urls = response.xpath('//article/header/h4/a/@href').extract()\n",
    "list(zip(titiles, urls))"
   ]
  },
  {
   "cell_type": "markdown",
   "metadata": {},
   "source": [
    "# www.coindesk.com"
   ]
  },
  {
   "cell_type": "code",
   "execution_count": 5,
   "metadata": {},
   "outputs": [],
   "source": [
    "fetch('http://www.coindesk.com')"
   ]
  },
  {
   "cell_type": "code",
   "execution_count": 6,
   "metadata": {},
   "outputs": [],
   "source": [
    "view()"
   ]
  },
  {
   "cell_type": "code",
   "execution_count": 7,
   "metadata": {},
   "outputs": [
    {
     "data": {
      "text/plain": [
       "[('Coinbase Halts Bitcoin Cash Trading Abruptly After Exchange Launch',\n",
       "  'https://www.coindesk.com/coinbase-halts-bitcoin-cash-trading-abruptly-exchange-launch/'),\n",
       " ('Decentralized Token Exchange Radar Relay Raises $3 Million',\n",
       "  'https://www.coindesk.com/decentralized-token-exchange-radar-relay-raises-3-million/'),\n",
       " (\"Augur's App Token Doubles in Price to Top $100\",\n",
       "  'https://www.coindesk.com/augurs-rep-token-shoots-above-100/'),\n",
       " (\"SEC Suspends Crypto Firm's Stock After Big Price Boost\",\n",
       "  'https://www.coindesk.com/sec-suspends-crypto-firms-stock-after-big-price-boost/'),\n",
       " (\"Nobel Winner Robert Shiller: Bitcoin Is Too 'Ambiguous' to Value\",\n",
       "  'https://www.coindesk.com/nobel-winner-robert-shiller-bitcoin-ambiguous-value/'),\n",
       " ('Bitcoin Exchange Youbit to Declare Bankruptcy After Hack',\n",
       "  'https://www.coindesk.com/south-korean-bitcoin-exchange-declare-bankruptcy-hack/'),\n",
       " (\"Estonia Inches Closer to National 'Crypto Token' Launch\",\n",
       "  'https://www.coindesk.com/estonia-inches-closer-to-national-crypto-token-launch/'),\n",
       " ('$2,300 and Rising: Bitcoin Cash Gains Against Bitcoin',\n",
       "  'https://www.coindesk.com/2300-rising-bitcoin-cash-eyes-gains-bitcoin/'),\n",
       " (\"Blockchain's 2018 Goal? Human Rights Over Financial Gains\",\n",
       "  'https://www.coindesk.com/blockchains-2018-goal-human-rights-over-financial-gains/'),\n",
       " ('Bitcoin Risks Bearish Price Reversal as Altcoins Surge',\n",
       "  'https://www.coindesk.com/bitcoin-risks-bearish-price-reversal-as-altcoins-surge/'),\n",
       " (\"Kuwait's Ministry of Finance Says It Does Not Recognize Bitcoin\",\n",
       "  'https://www.coindesk.com/kuwaits-ministry-of-finance-says-it-does-not-recognize-bitcoin/'),\n",
       " (\"'Stay Away' from Bitcoin, Warns Danish Central Bank Chief\",\n",
       "  'https://www.coindesk.com/stay-away-from-bitcoin-warns-danish-central-bank-chief/'),\n",
       " (\"The Next Step In Overstock's Master Blockchain Plan Is Underway\",\n",
       "  'https://www.coindesk.com/tzeros-ico-one-part-overstocks-master-blockchain-plan/')]"
      ]
     },
     "execution_count": 7,
     "metadata": {},
     "output_type": "execute_result"
    }
   ],
   "source": [
    "titles = response.xpath(\"//div[@class='post-info']/h3/a/text()\").extract()\n",
    "urls = response.xpath(\"//div[@class='post-info']/h3/a/@href\").extract()\n",
    "list(zip(titles, urls))"
   ]
  },
  {
   "cell_type": "markdown",
   "metadata": {},
   "source": [
    "# cointelegraph.com"
   ]
  },
  {
   "cell_type": "code",
   "execution_count": 8,
   "metadata": {},
   "outputs": [],
   "source": [
    "fetch('https://cointelegraph.com/')\n",
    "view(response)"
   ]
  },
  {
   "cell_type": "code",
   "execution_count": 9,
   "metadata": {},
   "outputs": [
    {
     "data": {
      "text/plain": [
       "['https://cointelegraph.com/news/first-government-blockchain-implementation-for-russia',\n",
       " 'https://cointelegraph.com/news/iota-gets-substantial-investment-from-bosch-group-vc',\n",
       " 'https://cointelegraph.com/news/bitfinex-blocks-new-users-mystery-invitation-code-now-required-to-register',\n",
       " 'https://cointelegraph.com/news/eu-looking-to-protect-banks-from-bitcoin-former-mi5-agent',\n",
       " 'https://cointelegraph.com/news/blockchain-startups-are-craving-regulation-says-gibraltar-official',\n",
       " 'https://cointelegraph.com/news/well-known-cio-bill-miller-invests-50-of-hedge-fund-in-bitcoin',\n",
       " 'https://cointelegraph.com/news/bitcoincom-cto-denounces-bitcoin-ive-switched-to-bitcoin-cash',\n",
       " 'https://cointelegraph.com/news/240-bln-japanese-company-to-pay-employees-in-bitcoin',\n",
       " 'https://cointelegraph.com/news/avoiding-paralysis-comparative-analysis-of-community-governance-in-digital-currencies',\n",
       " 'https://cointelegraph.com/news/digital-currency-dash-surges-past-1000-barrier-to-new-high-of-1250',\n",
       " 'https://cointelegraph.com/news/ordinary-leather-wallets-being-supplanted-by-digital-wallets-this-christmas',\n",
       " 'https://cointelegraph.com/news/bch-surges-above-2000-following-bitpay-integration-announcement',\n",
       " 'https://cointelegraph.com/news/harnessing-energy-from-bitcoin-mining-to-sequence-genetic-data',\n",
       " 'https://cointelegraph.com/news/david-orban-civilization-and-technology-are-a-positive-sum-game',\n",
       " 'https://cointelegraph.com/news/blockchaininfo-ceo-central-banks-will-hold-crypto-in-reserve-in-2018',\n",
       " 'https://cointelegraph.com/news/bitcoin-ethereum-bitcoin-cash-ripple-iota-litecoin-dash-price-analysis-december-18',\n",
       " 'https://cointelegraph.com/news/majority-of-bitcoin-investors-believe-cryptocurrency-performs-even-better-in-2018-survey',\n",
       " 'https://cointelegraph.com/news/give-bitcoin-this-christmas-says-teen-bitcoin-millionaire',\n",
       " 'https://cointelegraph.com/news/us-prosecutors-rush-to-sell-bitcoin-confiscated-in-drug-bust',\n",
       " 'https://cointelegraph.com/news/england-not-taking-bitcoin-seriously',\n",
       " 'https://cointelegraph.com/news/bullish-moas-bitcoin-destined-for-another-500-rise',\n",
       " 'https://cointelegraph.com/news/bitcoin-question-should-be-at-g20-says-france-finance-minister',\n",
       " 'https://cointelegraph.com/news/ukraine-security-service-allegedly-raid-forklog-confiscate-tech-and-funds',\n",
       " 'https://cointelegraph.com/news/what-to-expect-from-bitcoin-futures-expert-blog',\n",
       " 'https://cointelegraph.com/news/media-continues-to-slam-bitcoin-as-cme-futures-market-opens-price-slips-4']"
      ]
     },
     "execution_count": 9,
     "metadata": {},
     "output_type": "execute_result"
    }
   ],
   "source": [
    "urls = response.xpath(\"//div[@class='post boxed ']/a/@href\").extract()\n",
    "urls"
   ]
  },
  {
   "cell_type": "markdown",
   "metadata": {},
   "source": [
    "# www.leilook.com"
   ]
  },
  {
   "cell_type": "code",
   "execution_count": 10,
   "metadata": {},
   "outputs": [],
   "source": [
    "fetch('http://www.leilook.com/')"
   ]
  },
  {
   "cell_type": "code",
   "execution_count": 21,
   "metadata": {},
   "outputs": [
    {
     "data": {
      "text/plain": [
       "[]"
      ]
     },
     "execution_count": 21,
     "metadata": {},
     "output_type": "execute_result"
    }
   ],
   "source": [
    "titles = response.xpath('//article/header/h2/a/text()').extract()\n",
    "urls = response.xpath('//article/header/h2/a/@href').extract()\n",
    "list(zip(titles, urls))"
   ]
  },
  {
   "cell_type": "markdown",
   "metadata": {},
   "source": [
    "# http://m.bishijie.com/kuaixun"
   ]
  },
  {
   "cell_type": "code",
   "execution_count": 22,
   "metadata": {},
   "outputs": [],
   "source": [
    "fetch('http://m.bishijie.com/kuaixun')"
   ]
  },
  {
   "cell_type": "raw",
   "metadata": {},
   "source": [
    "response"
   ]
  },
  {
   "cell_type": "code",
   "execution_count": 25,
   "metadata": {},
   "outputs": [
    {
     "data": {
      "text/plain": [
       "['【火币pro发布半月报 注册用户数环比增长300%】据火币pro发布的半月报显示，其历史累计交易额突破8300亿美元，12月上半月新增交易量130亿美元，环比增长433%，注册用户数环比增长300%。杠杆交易支持的币种有11种：BTC、BCC、ETH、LTC、XRP、DASH、ETC、EOS、ZEC、OMG、QTUM。新币上线14种：BAT、BCX、CMT、CVC、EOS、GNT、ITC、MANA、MCO、OMG、QTUM、SBTC、SMT、ZEC。新币种涨幅前三名是：CMT涨幅2600%；ITC涨幅1250%；GNT涨幅550%。火币服务中心现已普及到新加坡、香港、东京和首尔等地。',\n",
       " '【Coinbase的CEO发文：将BCH价格异常波动进行调查】由于暂停BCH交易，美国最大数字自资产交易所Coinbase被质疑存在内幕交易。其官方博客称，目前没有迹象表明有任何不当行为，其CEO还提到两点：“一是存在内部交易和保密政策；二是公司将对价格波动采取措施。”CEO表示，禁止员工和承包商在“重大非公开信息”上进行交易，比如新的资产将添加到平台上；禁止在公司外面传播重大的非公开信息，这包括给朋友和家人。CEO进一步表示，鉴于宣布前几小时的价格上涨，我们将对此事进行调查，如果发现任何员工或承包商直接或间接违反政策的证据，会毫不犹豫地立即终止雇员并采取适当的法律行动。',\n",
       " '【蓝汛股价单日暴涨195% 传其获批开展比特币相关服务】据外媒报道，中国CDN服务提供商蓝汛的股价周二单日暴涨195.51%，据市场传言称，该公司有望成为唯一一家获得政府批准的比特币玩家。',\n",
       " '【Coinbase：暂停BCH交易是由于价格波动太大】美国最大的数字货币交易所Coinbase旗下的交易平台GDAX最新发布的博客，解释了暂停BCH交易的原因。北京时间20日8：00，GDAX上推出了三个BCH交易对，分别对美元、欧元、BTC。其中美元交易对于9：20开启，2分钟之后暂停了交易，是因为波动太大。“一旦暂停，我们就取消了待成交订单，并清理了所有的BCH订单。我们做出这个决定是为了确保一个公平有序的市场。”GDAX表示，将于北京时间12月21日凌晨1点重新开放BCH的交易，至少开放1个小时，以建立流动性。早上该平台的BCH价格一度触及9000美元。',\n",
       " '【招商银行完成全球首笔基于区块链的跨境人民币同业清算】近日，招商银行联手永隆银行、永隆深圳分行，成功实现了三方间使用区块链技术的跨境人民币汇款。这是全球首笔基于区块链技术的同业间跨境人民币清算业务。',\n",
       " '【BTC午盘重归弱势 下探16000美元寻找支撑】今日BTC王者风范尽失，早盘快速反弹至17000美元之后，未能维持强势反弹格局，午盘重归弱势下跌状态。BTC火币pro现价16210.90美元，在16000美元一线寻找支撑。期货方面，CBOE（芝加哥期权交易所）比特币期货主力合约现价16860美元，CME（芝加哥商品交易所）比特币期货主力合约现价16900。',\n",
       " '【火币pro正式上线HSR 涨幅43.01%】火币pro正式上线HSR（红烧肉），开盘冲高回落，现价人民币218.19元 ，涨幅43.01%。HSR项目官方此时正在硅谷举办开发者大会。HSR是火星人许子敬主导的区块链项目HCASH发行的代币。HCASH项目被设计成区块链与DAG系统的双重侧链，目标是成为主流区块链系统价值和信息交换的媒介。',\n",
       " '【GXS（公信宝）官推：将回购部分代币并永久销毁 】GXS（公信宝）官方推特刚刚发布消息称，明天会遵守承诺使用数据市场收入的10%回购GXS代币。回购的GXS将会被发送到“空帐户”以永久销毁。当前，GXS全球均价6.95美元，24小时跌幅1.8%。',\n",
       " '【火币pro上线BTM（比原链）】火币pro站定于今天14:00开放BTM充值业务，18:00开放提现业务，12月21日14:00在创新区开放BTM/BTC和BTM/ETH交易。BTM现价0.3925美元，24小时跌幅7.17%。',\n",
       " '【达世币站上人民币9000元，创历史新高】趁BTC这几日回调的时机，竞争币DASH连续大涨，今日午盘全球均价突破人民币9000元，大涨10.58%，再创历史新高。']"
      ]
     },
     "execution_count": 25,
     "metadata": {},
     "output_type": "execute_result"
    }
   ],
   "source": [
    "response.xpath(\"//article/section/p/text()\").extract()"
   ]
  },
  {
   "cell_type": "code",
   "execution_count": 27,
   "metadata": {},
   "outputs": [],
   "source": [
    "b = '【火币pro发布半月报 注册用户数环比增长300%】据火币pro发布的半月报显示，其历史累计交易额突破8300亿美元，12月上半月新增交易量130亿美元，环比增长433%，注册用户数环比增长300%。杠杆交易支持的币种有11种：BTC、BCC、ETH、LTC、XRP、DASH、ETC、EOS、ZEC、OMG、QTUM。新币上线14种：BAT、BCX、CMT、CVC、EOS、GNT、ITC、MANA、MCO、OMG、QTUM、SBTC、SMT、ZEC。新币种涨幅前三名是：CMT涨幅2600%；ITC涨幅1250%；GNT涨幅550%。火币服务中心现已普及到新加坡、香港、东京和首尔等地。'"
   ]
  },
  {
   "cell_type": "code",
   "execution_count": 28,
   "metadata": {},
   "outputs": [
    {
     "data": {
      "text/plain": [
       "'【火币pro发布半月报 注册用户数环比增长300%】据火币pro发布的半月报显示，其历史累计交易额突破8300亿美元，12月上半月新增交易量130亿美元，环比增长433%，注册用户数环比增长300%。杠杆交易支持的币种有11种：BTC、BCC、ETH、LTC、XRP、DASH、ETC、EOS、ZEC、OMG、QTUM。新币上线14种：BAT、BCX、CMT、CVC、EOS、GNT、ITC、MANA、MCO、OMG、QTUM、SBTC、SMT、ZEC。新币种涨幅前三名是：CMT涨幅2600%；ITC涨幅1250%；GNT涨幅550%。火币服务中心现已普及到新加坡、香港、东京和首尔等地。'"
      ]
     },
     "execution_count": 28,
     "metadata": {},
     "output_type": "execute_result"
    }
   ],
   "source": [
    "b"
   ]
  },
  {
   "cell_type": "code",
   "execution_count": 30,
   "metadata": {},
   "outputs": [
    {
     "data": {
      "text/plain": [
       "'火币pro发布半月报 注册用户数环比增长300%'"
      ]
     },
     "execution_count": 30,
     "metadata": {},
     "output_type": "execute_result"
    }
   ],
   "source": [
    "b[1:b.index('】')]"
   ]
  },
  {
   "cell_type": "code",
   "execution_count": 33,
   "metadata": {},
   "outputs": [
    {
     "data": {
      "text/plain": [
       "25"
      ]
     },
     "execution_count": 33,
     "metadata": {},
     "output_type": "execute_result"
    }
   ],
   "source": [
    "title_seq_index = b.index('】')\n",
    "title_seq_index"
   ]
  },
  {
   "cell_type": "code",
   "execution_count": 35,
   "metadata": {},
   "outputs": [
    {
     "data": {
      "text/plain": [
       "'据火币pro发布的半月报显示，其历史累计交易额突破8300亿美元，12月上半月新增交易量130亿美元，环比增长433%，注册用户数环比增长300%。杠杆交易支持的币种有11种：BTC、BCC、ETH、LTC、XRP、DASH、ETC、EOS、ZEC、OMG、QTUM。新币上线14种：BAT、BCX、CMT、CVC、EOS、GNT、ITC、MANA、MCO、OMG、QTUM、SBTC、SMT、ZEC。新币种涨幅前三名是：CMT涨幅2600%；ITC涨幅1250%；GNT涨幅550%。火币服务中心现已普及到新加坡、香港、东京和首尔等地。'"
      ]
     },
     "execution_count": 35,
     "metadata": {},
     "output_type": "execute_result"
    }
   ],
   "source": [
    "b[title_seq_index + 1:]"
   ]
  },
  {
   "cell_type": "markdown",
   "metadata": {},
   "source": [
    "# http://www.jinse.com/lives"
   ]
  },
  {
   "cell_type": "code",
   "execution_count": 30,
   "metadata": {},
   "outputs": [
    {
     "data": {
      "text/plain": [
       "<200 http://www.jinse.com/lives>"
      ]
     },
     "execution_count": 30,
     "metadata": {},
     "output_type": "execute_result"
    }
   ],
   "source": [
    "fetch('http://www.jinse.com/lives')\n",
    "response"
   ]
  },
  {
   "cell_type": "code",
   "execution_count": 32,
   "metadata": {},
   "outputs": [
    {
     "data": {
      "text/plain": [
       "[\"//ul[@class='lost']/li/div[@class='live-info']\", 'string(.)']"
      ]
     },
     "execution_count": 32,
     "metadata": {},
     "output_type": "execute_result"
    }
   ],
   "source": [
    "xpath_list = [\"//ul[@class='lost']/li/div[@class='live-info']\", 'string(.)']\n",
    "xpath_list"
   ]
  },
  {
   "cell_type": "code",
   "execution_count": 37,
   "metadata": {},
   "outputs": [
    {
     "data": {
      "text/plain": [
       "[<Selector xpath='string(.)' data='\\n【币安】Binance上市NAV Coin（NAV）\\n[查看原文]\\n'>,\n",
       " <Selector xpath='string(.)' data='\\n【新的加密货币挖矿病毒感染脸书Messenger】网络安全研究员发现新型恶意软'>,\n",
       " <Selector xpath='string(.)' data='\\n【国池】由李笑来担任基金会主席的 super bitcoin团队，在2017年'>,\n",
       " <Selector xpath='string(.)' data='\\n【韩国为防止金融诈骗 设立了“非法金融举报狗仔队”奖励】韩国金融监管院为了积极'>,\n",
       " <Selector xpath='string(.)' data='\\n【HSR红烧肉矿池上线 买USDT送奖励】HSR红烧肉矿池上线。买USDT送奖'>,\n",
       " <Selector xpath='string(.)' data='\\n【币安】TRX活动结束公告\\n[查看原文]\\n'>,\n",
       " <Selector xpath='string(.)' data='\\n【新浪期货频道比特币期货实时行情已于12月27日上线】新浪财经讯 12月27日'>,\n",
       " <Selector xpath='string(.)' data='\\n【TopBtc】TOPBTC在深圳参加中国区块链创新高峰论坛\\n[查看原文]\\n'>,\n",
       " <Selector xpath='string(.)' data='\\n【OKEX】OKEx上线SWFTC的公告。OKEx将上线SwftCoin(SW'>,\n",
       " <Selector xpath='string(.)' data='\\n【在从未拥有完整的比特币的情况下 投资者正转向山寨币】正如那些经验丰富的交易者'>,\n",
       " <Selector xpath='string(.)' data='\\n【比特币重新站上16000美元关口 此前一直在抵制沉寂的情绪】比特币正在抵制沉'>,\n",
       " <Selector xpath='string(.)' data='\\n【KEX】关于DC交易公告。首尔时间12月31号日起，开设可以进行加密货币交换'>,\n",
       " <Selector xpath='string(.)' data='\\n【IBM区块链技术副总裁认为 很多东西都将因为区块链而获得新生】据了解，IBM'>,\n",
       " <Selector xpath='string(.)' data='\\n【快速比特币（FBTC）分叉完成 已有交易所上线FBTC交易】12月27日下午'>,\n",
       " <Selector xpath='string(.)' data='\\n【NULS正式上线比特股内盘 NULS当前全球均价2.04美元】NULS（nu'>,\n",
       " <Selector xpath='string(.)' data='\\n【韩国有1/3上班族投资数字货币 把炒币认为是最快的赚钱捷径】韩国就业网站Sa'>,\n",
       " <Selector xpath='string(.)' data='\\n【杜克大学金融学教授认为 美国政府创造的数字货币可以与比特币竞争】杜克大学(D'>,\n",
       " <Selector xpath='string(.)' data='\\n【AEX】AEX在12月27日15:31（格林威治标准时间+8）拍摄了Bitc'>,\n",
       " <Selector xpath='string(.)' data='\\n【随着比特币反弹超过16,000美元 相关的就业机会也有所增加】随着比特币反弹'>,\n",
       " <Selector xpath='string(.)' data='\\n【涉案金额达16亿 维卡币特大网络传销案二审宣判】株洲市中级人民法院近日对段某'>]"
      ]
     },
     "execution_count": 37,
     "metadata": {},
     "output_type": "execute_result"
    }
   ],
   "source": [
    "pre = [response]\n",
    "for each_xpath in xpath_list:\n",
    "    now = []\n",
    "    for each_item in pre:\n",
    "        now.extend(each_item.xpath(each_xpath))\n",
    "    pre = now\n",
    "pre"
   ]
  },
  {
   "cell_type": "code",
   "execution_count": 42,
   "metadata": {},
   "outputs": [
    {
     "data": {
      "text/plain": [
       "'\\n【涉案金额达16亿 维卡币特大网络传销案二审宣判】株洲市中级人民法院近日对段某等35人组织、领导传销活动一案二审公开开庭宣判。据悉，这是一起涉及全国多省市的网络传销案件，涉案金额达16亿余元。据了解，该团伙建立的维卡币传销组织系境外向中国境内推广虚拟货币的组织，传销网站及营销模式由保加利亚人鲁某组织建立，服务器设立在丹麦的哥本哈根境内，对外宣称是继“比特币”之后的第二代加密电子货币。法院二审审理认为，上诉人段某、李某等10人及原审被告人宋某等25人，扰乱社会经济秩序，其行为均已构成组织、领导传销活动罪。在组织、领导传销活动的共同犯罪中，上诉人及原审被告人等35人均起次要作用，系从犯，依法可以从轻或减轻处罚。\\n[查看原文]\\n'"
      ]
     },
     "execution_count": 42,
     "metadata": {},
     "output_type": "execute_result"
    }
   ],
   "source": [
    "pre[-1].extract()"
   ]
  },
  {
   "cell_type": "code",
   "execution_count": 9,
   "metadata": {},
   "outputs": [],
   "source": [
    "view(response)"
   ]
  },
  {
   "cell_type": "markdown",
   "metadata": {},
   "source": [
    "# http://www.leilook.com/archives/category/快讯"
   ]
  },
  {
   "cell_type": "code",
   "execution_count": 24,
   "metadata": {},
   "outputs": [],
   "source": [
    "fetch('http://www.leilook.com/archives/category/快讯')"
   ]
  },
  {
   "cell_type": "code",
   "execution_count": 29,
   "metadata": {},
   "outputs": [
    {
     "data": {
      "text/plain": [
       "[('投资巨头嘉信理财首席战略官杰弗里•克兰托普：比特币自有其道 泡沫表现完全不同',\n",
       "  'http://www.leilook.com/archives/1779'),\n",
       " ('Moas预测2018年比特币的价值将会达到$ 28,000', 'http://www.leilook.com/archives/1773'),\n",
       " ('英国最大商业地产公司Landsec：区块链技术“绝对”能发挥作用', 'http://www.leilook.com/archives/1766'),\n",
       " ('美国FDIC前董事长称比特币不应被禁止，建议政府采取措施保证比特币定价',\n",
       "  'http://www.leilook.com/archives/1762'),\n",
       " ('欧盟财政专员：政府机构没有计划反对比特币', 'http://www.leilook.com/archives/1759'),\n",
       " ('白俄罗斯大学推出加密货币相关学位课程', 'http://www.leilook.com/archives/1756'),\n",
       " ('印度警方分手帮助投资者，打击本地比特币团伙', 'http://www.leilook.com/archives/1753'),\n",
       " ('Etherdelta被黑客攻击，一周后资金仍然被盗', 'http://www.leilook.com/archives/1746'),\n",
       " ('直布罗陀区块链交易所与QUOINE达成战略合作伙伴 打通东西方全球流动性渠道',\n",
       "  'http://www.leilook.com/archives/1727'),\n",
       " ('三星SDS成功完成韩国航运业区块链技术试点项目，提升航运物流信息网络水平',\n",
       "  'http://www.leilook.com/archives/1724')]"
      ]
     },
     "execution_count": 29,
     "metadata": {},
     "output_type": "execute_result"
    }
   ],
   "source": [
    "titles = response.xpath('//article/header/h2/a/text()').extract()\n",
    "urls = response.xpath('//article/header/h2/a/@href').extract()\n",
    "list(zip(titles, urls))"
   ]
  },
  {
   "cell_type": "markdown",
   "metadata": {},
   "source": [
    "# www.gongxiangcj.com/short_news?page=2"
   ]
  },
  {
   "cell_type": "code",
   "execution_count": 43,
   "metadata": {},
   "outputs": [
    {
     "data": {
      "text/plain": [
       "<200 http://www.gongxiangcj.com/short_news?page=2>"
      ]
     },
     "execution_count": 43,
     "metadata": {},
     "output_type": "execute_result"
    }
   ],
   "source": [
    "fetch('http://www.gongxiangcj.com/short_news?page=2')\n",
    "response"
   ]
  },
  {
   "cell_type": "code",
   "execution_count": 45,
   "metadata": {},
   "outputs": [
    {
     "data": {
      "text/plain": [
       "['\\n                      【NULS正式上线比特股内盘 NULS当前全球均价2.04美元】NULS（nuls.io）正式上线比特股内盘。12月26日，BitShares（比特股）与NULS正式达成战略合作，NULS基金会理事、英文社区负责人Omar Elmir与BitShares大中华区代表、理事会理事梓岑出席签约仪式。Nuls是一个高度可定制的区块链基础设施，通过智能合约、多链并行、可插拔、模块化、平行扩展技术、提供标准协议交互接口，解决现有区块链性能受限，不同链之间无法通信的问题。NULS当前全球均价2.04美元，24小时涨幅10.5%。\\n\\t\\t\\t\\t\\t',\n",
       " '\\n                      【快速比特币（FBTC）分叉完成 已有交易所上线FBTC交易】12月27日下午2点55分，快速比特币（FBTC）于比特币区块高度501225完成分叉。FBTC的区块容量由矿工投票决定，大小范围是1M-10M，采用DPoS共识机制，支持闪电网络，具备智能合约、零知识证明与双向重放保护功能。FBTC总发行量为2100万不增发，分叉后将按1:1比例发放FBTC糖果。目前BCEX 、Allcoin 、btctrade.im与coolcoin.com四家交易所支持快照，BCEX现价1310人民币左右。\\n\\t\\t\\t\\t\\t',\n",
       " '\\n                      【IBM区块链技术副总裁认为 很多东西都将因为区块链而获得新生】据了解，IBM区块链技术副总裁杰里·库莫发言表示:“很多东西都将因为区块链而获得新生。”\\n\\t\\t\\t\\t\\t',\n",
       " '\\n                      【KEX】关于DC交易公告。首尔时间12月31号日起，开设可以进行加密货币交换的DC地区。DC是KEX交易所的官方数字代码，它是由 Eastor （Technology Co. Ltd）进行开发，维护和运营的。只能在KEX的生态的计算范围内使用，可以按规定跟法定货币进行1:1的兑换。相关机构和个人可以通过Eastor（Technology Co.Ltd）合力担保人用本人资产做担保进行交易，交易完成以后会退还DC，交换资产不能超过抵押资产。\\n                          ',\n",
       " '\\n\\t\\t\\t\\t\\t',\n",
       " '\\n                      【项目动态】NULS（nuls.io）正式上线比特股内盘。12月26日，BitShares（比特股）与NULS正式达成战略合作。\\n\\t\\t\\t\\t\\t',\n",
       " '\\n                      【比特币重新站上16000美元关口 此前一直在抵制沉寂的情绪】比特币正在抵制沉寂的情绪，在上周大幅下挫之后出现了强劲的复苏，两天之内从大约19,000美元跌至14,000美元。比特币周二价格上涨了13％，今天上午再次延续涨势，目前转手价格在16,200美元左右。\\n\\t\\t\\t\\t\\t',\n",
       " '\\n                      【新币开盘】OKEx将上线SwftCoin(SWFTC)，具体时间如下：12月27日16:00开放SWFTC充值；12月28日16:00开放SWFTC交易；12月29日开放SWFTC提现。\\n                          ',\n",
       " '\\n\\t\\t\\t\\t\\t',\n",
       " '\\n                      【在从未拥有完整的比特币的情况下 投资者正转向山寨币】正如那些经验丰富的交易者断言，购买比特币的最佳时机是比特币陷入停滞时。当比特币飙升或暴跌的时候，另类币市场会收受到影响，因为资金会流入比特币，或回到菲亚特币。然而，在过去几周，随着比特币的侧向移动，比特币的价格一路飙升。\\n\\t\\t\\t\\t\\t',\n",
       " '\\n                      【国际】据了解，IBM区块链技术副总裁杰里·库莫发言表示:“很多东西都将因为区块链而获得新生。”\\n\\t\\t\\t\\t\\t',\n",
       " '\\n                      【项目动态】区块链企业孵化器INBlockchain将为CoinDash\\xa0(CDT)提供技术支持。\\n\\t\\t\\t\\t\\t',\n",
       " '\\n                      【项目动态】12月27日下午2点55分，快速比特币（FBTC）于比特币区块高度501225完成分叉。FBTC总发行量为2100万，不增发无预挖币，分叉后将按1:1比例发放FBTC糖果。目前BCEX 、Allcoin 、btctrade.im与coolcoin.com四家交易所支持快照，BCE...\\n\\t\\t\\t\\t\\t',\n",
       " '\\n                      【新币开盘】ZB现已开放UBTC的充值业务，现有UBTC/QC、UBTC/USDT、UBTC/BTC交易市场。\\n                          ',\n",
       " '\\n\\t\\t\\t\\t\\t',\n",
       " '\\n                      【项目动态】Cryptonex (CNX)的新版钱包已发布。\\n                          ',\n",
       " '\\n\\t\\t\\t\\t\\t',\n",
       " '\\n                      【国际】周三，比特币价格的剧烈波动出现了停顿，因受到泡沫的担忧而遭到大幅抛售。周一被以色列证券局表示将禁止在比特币交易的公司在特拉维夫证券交易所运营，以色列监管机构负责人高尔塞Shmuel Hauser说：“我认为这看起来像一个泡沫，闻起来像一个泡沫，就像一个泡沫，感觉就像一个泡沫。”\\n\\t\\t\\t\\t\\t',\n",
       " '\\n                      【国际】coin实时播报：区块链资产总市值：6174.729\\xa0亿 区块链资产24小时总交易量：277.882\\xa0亿 比特币市值占比：44.9%\\n\\t\\t\\t\\t\\t']"
      ]
     },
     "execution_count": 45,
     "metadata": {},
     "output_type": "execute_result"
    }
   ],
   "source": [
    "response.xpath(\"//div[@class='kx-left-kuai-new-con']/text()\").extract()"
   ]
  },
  {
   "cell_type": "markdown",
   "metadata": {},
   "source": [
    "# www.ccn.com/news/"
   ]
  },
  {
   "cell_type": "code",
   "execution_count": 6,
   "metadata": {
    "ExecuteTime": {
     "end_time": "2017-12-29T08:27:17.702794Z",
     "start_time": "2017-12-29T08:27:15.587344Z"
    }
   },
   "outputs": [
    {
     "data": {
      "text/plain": [
       "<200 https://www.ccn.com/news/>"
      ]
     },
     "execution_count": 6,
     "metadata": {},
     "output_type": "execute_result"
    }
   ],
   "source": [
    "headers = {\n",
    "    'User-Agent': str(user_agent)\n",
    "}\n",
    "fetch('https://www.ccn.com/news/', headers=headers)\n",
    "response"
   ]
  },
  {
   "cell_type": "code",
   "execution_count": 8,
   "metadata": {
    "ExecuteTime": {
     "end_time": "2017-12-29T08:27:56.406534Z",
     "start_time": "2017-12-29T08:27:56.389062Z"
    }
   },
   "outputs": [
    {
     "data": {
      "text/plain": [
       "['$1.52: Ripple Price Surges 15%, Now Worth More Than Uber',\n",
       " 'Survey: 31% of South Korean Professionals are Cryptocurrency Investors',\n",
       " 'This Public Company Raised Cryptocurrency-Secured Funding',\n",
       " 'ATBCoin Hit With Class-Action Lawsuit After $20 Million ICO',\n",
       " 'Director of UK Cryptocurrency Exchange EXMO Kidnapped in Ukraine',\n",
       " 'Bitcoin is Facing the ‘Moment of Truth’, Says Allianz Economist',\n",
       " 'Bitcoin Charity Makes $5 Million Donation to Basic Income Experiment',\n",
       " 'Bitcoin ‘Doesn’t Pass the Smell Test’: Massachusetts Securities Regulator',\n",
       " 'South Korea is Not Banning Bitcoin but FUD Drives Price Down',\n",
       " 'Cryptocurrency Market Cap Sheds $50 Billion as Bitcoin, Ethereum Prices Skid',\n",
       " 'Ripple Officially Overtakes Bitcoin Cash, Surpasses $51 Billion Market Valuation',\n",
       " '(+) Crypto Update: Bitcoin Price Down $3000 in Two Days as South Korean Regulation Worries Drive Majors Lower',\n",
       " '$105 Million in Bitcoin…in a Landfill: Council Denies Owner to Recover Missing Hard Drive',\n",
       " 'India’s Tax Sleuths are Looking Into Bitcoin Profiteers’ Overall Wealth',\n",
       " 'South Korea to Enforce Ban on Anonymous Bitcoin Trading: Reports',\n",
       " 'Bitcoin Price Falls 10% as Cryptocurrency Market Endures Another Big Correction']"
      ]
     },
     "execution_count": 8,
     "metadata": {},
     "output_type": "execute_result"
    }
   ],
   "source": [
    "response.xpath('//article/header/h4/a/text()').extract()"
   ]
  },
  {
   "cell_type": "code",
   "execution_count": 9,
   "metadata": {
    "ExecuteTime": {
     "end_time": "2017-12-29T08:28:46.627050Z",
     "start_time": "2017-12-29T08:28:46.620000Z"
    }
   },
   "outputs": [
    {
     "data": {
      "text/plain": [
       "'Opera/9.80 (Windows NT 5.2; U; zh-cn) Presto/2.6.30 Version/10.63'"
      ]
     },
     "execution_count": 9,
     "metadata": {},
     "output_type": "execute_result"
    }
   ],
   "source": [
    "user_agent"
   ]
  },
  {
   "cell_type": "markdown",
   "metadata": {},
   "source": [
    "# www.cnbc.com"
   ]
  },
  {
   "cell_type": "code",
   "execution_count": 10,
   "metadata": {
    "ExecuteTime": {
     "end_time": "2017-12-29T08:33:46.473790Z",
     "start_time": "2017-12-29T08:33:45.132471Z"
    }
   },
   "outputs": [
    {
     "data": {
      "text/plain": [
       "<200 https://search.cnbc.com/rs/search/view.html?source=CNBC.com&categories=exclude&partnerId=2000&keywords=new>"
      ]
     },
     "execution_count": 10,
     "metadata": {},
     "output_type": "execute_result"
    }
   ],
   "source": [
    "fetch('https://search.cnbc.com/rs/search/view.html?source=CNBC.com&categories=exclude&partnerId=2000&keywords=new')\n",
    "response"
   ]
  },
  {
   "cell_type": "code",
   "execution_count": 14,
   "metadata": {
    "ExecuteTime": {
     "end_time": "2017-12-29T08:35:55.552436Z",
     "start_time": "2017-12-29T08:35:55.541129Z"
    }
   },
   "outputs": [
    {
     "data": {
      "text/plain": [
       "[('European markets open flat on last trading day of the year  ',\n",
       "  '//www.cnbc.com/id/15840232/?video=3000682664&play=1'),\n",
       " ('The best-performing Asian indexes in 2017 look set for more gains in the new year  ',\n",
       "  'https://www.cnbc.com/2017/12/29/hang-seng-outperforms-in-2017--vietnam-beats-emerging-market-peers.html'),\n",
       " ('European markets open flat on last trading day of the year  ',\n",
       "  'https://www.cnbc.com/2017/12/29/european-markets-investors-look-ahead-to-2018.html'),\n",
       " ('This is the currency that performs best at the start of a new year  ',\n",
       "  'https://www.cnbc.com/2017/12/29/this-is-the-currency-that-performs-best-at-the-start-of-a-new-year.html'),\n",
       " (\"Trump threatens China, says Russia inquiry makes America 'look very bad'  \",\n",
       "  'https://www.cnbc.com/2017/12/28/donald-trump-threatens-china-in-new-york-times-interview.html'),\n",
       " ('Dennis Gartman gives his big predictions for 2018  ',\n",
       "  '//www.cnbc.com/id/15840232/?video=3000682516&play=1'),\n",
       " (\"One of this year's biggest bulls tames forecast going into 2018  \",\n",
       "  '//www.cnbc.com/id/15840232/?video=3000682519&play=1'),\n",
       " ('New record close for the Dow Jones  ',\n",
       "  '//www.cnbc.com/id/15840232/?video=3000682497&play=1'),\n",
       " (\"Former HUD secretary: People are 'frightened' about state and local tax changes  \",\n",
       "  '//www.cnbc.com/id/15840232/?video=3000682495&play=1'),\n",
       " ('Blue-state governors gear up for possible legal fight over GOP tax law  ',\n",
       "  'https://www.cnbc.com/2017/12/28/new-york-new-jersey-governors-may-challenge-gop-tax-law.html')]"
      ]
     },
     "execution_count": 14,
     "metadata": {},
     "output_type": "execute_result"
    }
   ],
   "source": [
    "titles = response.xpath(\"//div[@class='SearchResultCard']/h3/a/text()\").extract()\n",
    "urls  = response.xpath(\"//div[@class='SearchResultCard']/h3/a/@href\").extract()\n",
    "list(zip(titles, urls))"
   ]
  },
  {
   "cell_type": "code",
   "execution_count": null,
   "metadata": {},
   "outputs": [],
   "source": []
  },
  {
   "cell_type": "code",
   "execution_count": null,
   "metadata": {},
   "outputs": [],
   "source": []
  },
  {
   "cell_type": "code",
   "execution_count": 16,
   "metadata": {
    "ExecuteTime": {
     "end_time": "2017-12-29T09:55:59.882173Z",
     "start_time": "2017-12-29T09:55:59.778285Z"
    }
   },
   "outputs": [],
   "source": [
    "fetch(\"http://www.goubanjia.com/\", headers={'User-Agent': str(user_agent)})"
   ]
  },
  {
   "cell_type": "code",
   "execution_count": 21,
   "metadata": {
    "ExecuteTime": {
     "end_time": "2017-12-29T09:57:46.251019Z",
     "start_time": "2017-12-29T09:57:46.244182Z"
    }
   },
   "outputs": [],
   "source": [
    "trs = response.xpath(\"//div[@id='list']/table/tbody/tr/td[1]\")"
   ]
  },
  {
   "cell_type": "code",
   "execution_count": 22,
   "metadata": {
    "ExecuteTime": {
     "end_time": "2017-12-29T09:58:14.793848Z",
     "start_time": "2017-12-29T09:58:14.786112Z"
    }
   },
   "outputs": [],
   "source": [
    "tds = [tr.xpath('string(.)') for tr in trs]"
   ]
  },
  {
   "cell_type": "code",
   "execution_count": 23,
   "metadata": {
    "ExecuteTime": {
     "end_time": "2017-12-29T09:58:16.871777Z",
     "start_time": "2017-12-29T09:58:16.862290Z"
    }
   },
   "outputs": [
    {
     "data": {
      "text/plain": [
       "[[<Selector xpath='string(.)' data='11116.1.199.2.1.196:8436'>],\n",
       " [<Selector xpath='string(.)' data='163.17177.15151.23:8478'>],\n",
       " [<Selector xpath='string(.)' data='27.7.36.1116.226:8763'>],\n",
       " [<Selector xpath='string(.)' data='113.200.2114.164:8270'>],\n",
       " [<Selector xpath='string(.)' data='20202.100.83.1139:8956'>],\n",
       " [<Selector xpath='string(.)' data='13138..19197.15157.66:8422'>],\n",
       " [<Selector xpath='string(.)' data='144.4.2217.4.48.73:8626'>],\n",
       " [<Selector xpath='string(.)' data='118..114.4.77.47:8474'>],\n",
       " [<Selector xpath='string(.)' data='1113.207.7.44.70:8923'>],\n",
       " [<Selector xpath='string(.)' data='124.133.230.0.225454:9043'>],\n",
       " [<Selector xpath='string(.)' data='211.1.15959.2.2477.2.2116:8285'>],\n",
       " [<Selector xpath='string(.)' data='1224.1224.4.99.210:8896'>],\n",
       " [<Selector xpath='string(.)' data='20205.204.885.199:8371'>],\n",
       " [<Selector xpath='string(.)' data='2223.11112.84.3030:8551'>],\n",
       " [<Selector xpath='string(.)' data='123.12525.159.1222:8676'>],\n",
       " [<Selector xpath='string(.)' data='116.6.199.9.2.2110:8537'>],\n",
       " [<Selector xpath='string(.)' data='112.2216.16.2500:8414'>],\n",
       " [<Selector xpath='string(.)' data='1388.197.222.3.35:8085'>],\n",
       " [<Selector xpath='string(.)' data='211.1.159.247.184:8126'>],\n",
       " [<Selector xpath='string(.)' data='202.855..213..2200:8449'>]]"
      ]
     },
     "execution_count": 23,
     "metadata": {},
     "output_type": "execute_result"
    }
   ],
   "source": [
    "tds"
   ]
  },
  {
   "cell_type": "code",
   "execution_count": null,
   "metadata": {},
   "outputs": [],
   "source": []
  },
  {
   "cell_type": "code",
   "execution_count": 47,
   "metadata": {
    "ExecuteTime": {
     "end_time": "2017-12-29T11:07:33.801708Z",
     "start_time": "2017-12-29T11:07:33.788546Z"
    }
   },
   "outputs": [],
   "source": [
    "def get_resp():\n",
    "    for _ in range(20):\n",
    "        res = requests.get('http://www.8btc.com/', headers={'User-Agent': 'Mozilla/5.0 (Macintosh; Intel Mac OS X 10_13_2) AppleWebKit/537.36 (KHTML, like Gecko) Chrome/63.0.3239.84 Safari/537.36',\n",
    "                                                             'Cookie':'yd_cookie=356ba76b-250b-429ab21376d2160d8fd0e6a7f55e36fcd42b; UM_distinctid=160a113de4f2cb-0ecfeccce9124c-16386656-1fa400-160a113de504ed; CNZZDATA5934906=cnzz_eid%3D120260133-1514527917-http%253A%252F%252Fwww.8btc.com%252F%26ntime%3D1514538718; _ydclearance=fafbfb413b026fa856bc1c0e-105b-4c18-966d-16d8bd4b6c3b-1514546531'})\n",
    "        if res.status_code == 200:\n",
    "            print(_)\n",
    "            return TextResponse(res.url, body=res.text, encoding=res.encoding)\n",
    "    print('Always error')"
   ]
  },
  {
   "cell_type": "code",
   "execution_count": 63,
   "metadata": {
    "ExecuteTime": {
     "end_time": "2017-12-29T11:08:09.774789Z",
     "start_time": "2017-12-29T11:08:03.122812Z"
    }
   },
   "outputs": [
    {
     "name": "stdout",
     "output_type": "stream",
     "text": [
      "4\n"
     ]
    },
    {
     "data": {
      "text/plain": [
       "<200 http://www.8btc.com/>"
      ]
     },
     "execution_count": 63,
     "metadata": {},
     "output_type": "execute_result"
    },
    {
     "name": "stdout",
     "output_type": "stream",
     "text": [
      "0\n"
     ]
    },
    {
     "data": {
      "text/plain": [
       "<200 http://www.8btc.com/>"
      ]
     },
     "execution_count": 63,
     "metadata": {},
     "output_type": "execute_result"
    },
    {
     "name": "stdout",
     "output_type": "stream",
     "text": [
      "1\n"
     ]
    },
    {
     "data": {
      "text/plain": [
       "<200 http://www.8btc.com/>"
      ]
     },
     "execution_count": 63,
     "metadata": {},
     "output_type": "execute_result"
    },
    {
     "name": "stdout",
     "output_type": "stream",
     "text": [
      "5\n"
     ]
    },
    {
     "data": {
      "text/plain": [
       "<200 http://www.8btc.com/>"
      ]
     },
     "execution_count": 63,
     "metadata": {},
     "output_type": "execute_result"
    },
    {
     "name": "stdout",
     "output_type": "stream",
     "text": [
      "3\n"
     ]
    },
    {
     "data": {
      "text/plain": [
       "<200 http://www.8btc.com/>"
      ]
     },
     "execution_count": 63,
     "metadata": {},
     "output_type": "execute_result"
    },
    {
     "name": "stdout",
     "output_type": "stream",
     "text": [
      "1\n"
     ]
    },
    {
     "data": {
      "text/plain": [
       "<200 http://www.8btc.com/>"
      ]
     },
     "execution_count": 63,
     "metadata": {},
     "output_type": "execute_result"
    },
    {
     "name": "stdout",
     "output_type": "stream",
     "text": [
      "0\n"
     ]
    },
    {
     "data": {
      "text/plain": [
       "<200 http://www.8btc.com/>"
      ]
     },
     "execution_count": 63,
     "metadata": {},
     "output_type": "execute_result"
    },
    {
     "name": "stdout",
     "output_type": "stream",
     "text": [
      "5\n"
     ]
    },
    {
     "data": {
      "text/plain": [
       "<200 http://www.8btc.com/>"
      ]
     },
     "execution_count": 63,
     "metadata": {},
     "output_type": "execute_result"
    },
    {
     "name": "stdout",
     "output_type": "stream",
     "text": [
      "0\n"
     ]
    },
    {
     "data": {
      "text/plain": [
       "<200 http://www.8btc.com/>"
      ]
     },
     "execution_count": 63,
     "metadata": {},
     "output_type": "execute_result"
    },
    {
     "name": "stdout",
     "output_type": "stream",
     "text": [
      "2\n"
     ]
    },
    {
     "data": {
      "text/plain": [
       "<200 http://www.8btc.com/>"
      ]
     },
     "execution_count": 63,
     "metadata": {},
     "output_type": "execute_result"
    },
    {
     "name": "stdout",
     "output_type": "stream",
     "text": [
      "2\n"
     ]
    },
    {
     "data": {
      "text/plain": [
       "<200 http://www.8btc.com/>"
      ]
     },
     "execution_count": 63,
     "metadata": {},
     "output_type": "execute_result"
    },
    {
     "name": "stdout",
     "output_type": "stream",
     "text": [
      "2\n"
     ]
    },
    {
     "data": {
      "text/plain": [
       "<200 http://www.8btc.com/>"
      ]
     },
     "execution_count": 63,
     "metadata": {},
     "output_type": "execute_result"
    },
    {
     "name": "stdout",
     "output_type": "stream",
     "text": [
      "0\n"
     ]
    },
    {
     "data": {
      "text/plain": [
       "<200 http://www.8btc.com/>"
      ]
     },
     "execution_count": 63,
     "metadata": {},
     "output_type": "execute_result"
    },
    {
     "name": "stdout",
     "output_type": "stream",
     "text": [
      "6\n"
     ]
    },
    {
     "data": {
      "text/plain": [
       "<200 http://www.8btc.com/>"
      ]
     },
     "execution_count": 63,
     "metadata": {},
     "output_type": "execute_result"
    },
    {
     "name": "stdout",
     "output_type": "stream",
     "text": [
      "5\n"
     ]
    },
    {
     "data": {
      "text/plain": [
       "<200 http://www.8btc.com/>"
      ]
     },
     "execution_count": 63,
     "metadata": {},
     "output_type": "execute_result"
    },
    {
     "name": "stdout",
     "output_type": "stream",
     "text": [
      "6\n"
     ]
    },
    {
     "data": {
      "text/plain": [
       "<200 http://www.8btc.com/>"
      ]
     },
     "execution_count": 63,
     "metadata": {},
     "output_type": "execute_result"
    },
    {
     "name": "stdout",
     "output_type": "stream",
     "text": [
      "1\n"
     ]
    },
    {
     "data": {
      "text/plain": [
       "<200 http://www.8btc.com/>"
      ]
     },
     "execution_count": 63,
     "metadata": {},
     "output_type": "execute_result"
    },
    {
     "name": "stdout",
     "output_type": "stream",
     "text": [
      "0\n"
     ]
    },
    {
     "data": {
      "text/plain": [
       "<200 http://www.8btc.com/>"
      ]
     },
     "execution_count": 63,
     "metadata": {},
     "output_type": "execute_result"
    },
    {
     "name": "stdout",
     "output_type": "stream",
     "text": [
      "5\n"
     ]
    },
    {
     "data": {
      "text/plain": [
       "<200 http://www.8btc.com/>"
      ]
     },
     "execution_count": 63,
     "metadata": {},
     "output_type": "execute_result"
    },
    {
     "name": "stdout",
     "output_type": "stream",
     "text": [
      "3\n"
     ]
    },
    {
     "data": {
      "text/plain": [
       "<200 http://www.8btc.com/>"
      ]
     },
     "execution_count": 63,
     "metadata": {},
     "output_type": "execute_result"
    }
   ],
   "source": [
    "for _ in range(20):\n",
    "    get_resp()"
   ]
  },
  {
   "cell_type": "code",
   "execution_count": 57,
   "metadata": {
    "ExecuteTime": {
     "end_time": "2017-12-29T11:07:46.587068Z",
     "start_time": "2017-12-29T11:07:46.581716Z"
    }
   },
   "outputs": [
    {
     "data": {
      "text/plain": [
       "<200 http://www.8btc.com/>"
      ]
     },
     "execution_count": 57,
     "metadata": {},
     "output_type": "execute_result"
    }
   ],
   "source": [
    "resp"
   ]
  },
  {
   "cell_type": "code",
   "execution_count": 31,
   "metadata": {
    "ExecuteTime": {
     "end_time": "2017-12-29T10:42:35.753308Z",
     "start_time": "2017-12-29T10:42:35.741855Z"
    }
   },
   "outputs": [
    {
     "data": {
      "text/plain": [
       "['暴风影音携手Qtum量子链，推动中...',\n",
       " '手机莫名其妙失灵？卡巴斯基告诉...',\n",
       " 'ARK投资公司创始人：比特币远...',\n",
       " 'P网宣布将禁用所有旧式账户，所...',\n",
       " '我凭什么相信你？比特币',\n",
       " 'Hut 8携手Bitfury集团打造北美...',\n",
       " '韩国政府拟合法化比特币交易，打...',\n",
       " '以太坊源码(01)：P2P网络及节点...']"
      ]
     },
     "execution_count": 31,
     "metadata": {},
     "output_type": "execute_result"
    }
   ],
   "source": [
    "resp.xpath(\"//div[@class='bodyer']/div[@class='article-list']/article/div/div[1]/a/text()\").extract()\n",
    "           "
   ]
  },
  {
   "cell_type": "code",
   "execution_count": null,
   "metadata": {},
   "outputs": [],
   "source": []
  }
 ],
 "metadata": {
  "kernelspec": {
   "display_name": "Python 3",
   "language": "python",
   "name": "python3"
  },
  "language_info": {
   "codemirror_mode": {
    "name": "ipython",
    "version": 3
   },
   "file_extension": ".py",
   "mimetype": "text/x-python",
   "name": "python",
   "nbconvert_exporter": "python",
   "pygments_lexer": "ipython3",
   "version": "3.6.3"
  }
 },
 "nbformat": 4,
 "nbformat_minor": 2
}
