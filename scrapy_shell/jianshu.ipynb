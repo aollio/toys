{
 "cells": [
  {
   "cell_type": "code",
   "execution_count": 1,
   "metadata": {
    "collapsed": true
   },
   "outputs": [],
   "source": [
    "from aollio.crawl import *"
   ]
  },
  {
   "cell_type": "code",
   "execution_count": 2,
   "metadata": {},
   "outputs": [
    {
     "data": {
      "text/plain": [
       "<200 http://www.jianshu.com/>"
      ]
     },
     "execution_count": 2,
     "metadata": {},
     "output_type": "execute_result"
    }
   ],
   "source": [
    "fetch('http://jianshu.com')\n",
    "response"
   ]
  },
  {
   "cell_type": "code",
   "execution_count": 3,
   "metadata": {},
   "outputs": [
    {
     "data": {
      "text/plain": [
       "[('同事问我：“长期早起的你，为啥比每天睡足八个小时的我更精神？”', 'http://jianshu.com/p/82810cc071ee'),\n",
       " ('简书【社会热点】专题投稿须知', 'http://jianshu.com/p/49c64cdf273d'),\n",
       " ('我读古文之《亲政篇》|经学不死——怎样写好一篇政治正确的文字', 'http://jianshu.com/p/caa3e2cbb451'),\n",
       " ('有的时候，泛泛之交也是一种礼貌', 'http://jianshu.com/p/9c2c75c13557'),\n",
       " ('《芳华》：你看到的是青春美好，我看到的是人性薄凉。', 'http://jianshu.com/p/37facb56abf5'),\n",
       " ('我想给你打个电话', 'http://jianshu.com/p/6b06373b4727'),\n",
       " ('像你这么内向，上大学一定会废的', 'http://jianshu.com/p/c9cbaeba2de2'),\n",
       " ('Git及GitHub快速入门图文全面详解（30分钟学会）', 'http://jianshu.com/p/3f12bd3ccf2a'),\n",
       " ('你是最美的爱情模样', 'http://jianshu.com/p/a0f368e49648'),\n",
       " ('《暗时间》：充分利用好暗时间，才有可能成为顶尖', 'http://jianshu.com/p/af8b9ad03208'),\n",
       " ('李光头在自媒体时代绝对是个天才', 'http://jianshu.com/p/afb769f32f37'),\n",
       " ('我陪你，星空岁月', 'http://jianshu.com/p/341300d78d41'),\n",
       " ('年薪10万，你就打败了90%的中国人', 'http://jianshu.com/p/193136562ac1'),\n",
       " ('[我的2017]结婚十年，我在烟火中前行', 'http://jianshu.com/p/52456cbfc0e7'),\n",
       " ('画•世间～一念天涯', 'http://jianshu.com/p/8d9873c4aadd'),\n",
       " ('原来月薪过万，生活一点也不浪漫啊', 'http://jianshu.com/p/eb74377feb7e'),\n",
       " ('乌托邦05丨我爱的人变成了一条鼻涕虫', 'http://jianshu.com/p/f55e980836a5'),\n",
       " ('今天晒多肉，此“肉”非彼肉', 'http://jianshu.com/p/cbff9179c6fa'),\n",
       " ('东凤墨白续写之三生三世千秋岁（91）', 'http://jianshu.com/p/b7d8f5c14090'),\n",
       " ('《至爱梵高》：有人热泪盈眶，有人昏昏欲睡', 'http://jianshu.com/p/7974f778bc30')]"
      ]
     },
     "execution_count": 3,
     "metadata": {},
     "output_type": "execute_result"
    }
   ],
   "source": [
    "titles = response.xpath(\"//ul[@class='note-list']/li/div/a/text()\").extract()\n",
    "urls = response.xpath(\"//ul[@class='note-list']/li/div/a/@href\").extract()\n",
    "urls = map(lambda a: 'http://jianshu.com' + a if not a.startswith('http') else a, urls)\n",
    "list(zip(titles, urls))"
   ]
  },
  {
   "cell_type": "code",
   "execution_count": 9,
   "metadata": {},
   "outputs": [
    {
     "data": {
      "text/plain": [
       "str"
      ]
     },
     "execution_count": 9,
     "metadata": {},
     "output_type": "execute_result"
    }
   ],
   "source": [
    "type(response.text)"
   ]
  },
  {
   "cell_type": "code",
   "execution_count": 6,
   "metadata": {
    "collapsed": true
   },
   "outputs": [],
   "source": []
  },
  {
   "cell_type": "code",
   "execution_count": null,
   "metadata": {},
   "outputs": [],
   "source": []
  }
 ],
 "metadata": {
  "kernelspec": {
   "display_name": "Python 3",
   "language": "python",
   "name": "python3"
  },
  "language_info": {
   "codemirror_mode": {
    "name": "ipython",
    "version": 3
   },
   "file_extension": ".py",
   "mimetype": "text/x-python",
   "name": "python",
   "nbconvert_exporter": "python",
   "pygments_lexer": "ipython3",
   "version": "3.6.3"
  }
 },
 "nbformat": 4,
 "nbformat_minor": 1
}
